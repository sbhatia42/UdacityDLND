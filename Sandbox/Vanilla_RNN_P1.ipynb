{
 "cells": [
  {
   "cell_type": "code",
   "execution_count": 1,
   "metadata": {},
   "outputs": [],
   "source": [
    "import torch\n",
    "import torch.nn as nn\n",
    "import torch.nn.functional as F\n",
    "import os\n",
    "import numpy as np\n",
    "import torchvision\n",
    "import torchvision.transforms as transforms\n"
   ]
  },
  {
   "cell_type": "code",
   "execution_count": 10,
   "metadata": {},
   "outputs": [],
   "source": [
    "Batch_Size = 32\n",
    "\n",
    "transform = transforms.Compose([transforms.ToTensor()])\n",
    "trainset = torchvision.datasets.MNIST(root='./data',train=True, download =True,\n",
    "                                      transform = transform)\n",
    "trainLoader = torch.utils.data.DataLoader(trainset,batch_size=Batch_Size,\n",
    "                                         shuffle=True,num_workers=0)\n",
    "testset = torchvision.datasets.MNIST(root='./data',train=False,\n",
    "                                    download=True,transform=transform)\n",
    "testLoader = torch.utils.data.DataLoader(testset,batch_size=Batch_Size,\n",
    "                                        shuffle=False,num_workers=0)"
   ]
  },
  {
   "cell_type": "code",
   "execution_count": 11,
   "metadata": {},
   "outputs": [
    {
     "data": {
      "image/png": "[encoded data removed]",
      "text/plain": [
       "<Figure size 432x288 with 1 Axes>"
      ]
     },
     "metadata": {
      "needs_background": "light"
     },
     "output_type": "display_data"
    }
   ],
   "source": [
    "%matplotlib inline\n",
    "import matplotlib.pyplot as plt\n",
    "import numpy as np\n",
    "\n",
    "def imshow(img):\n",
    "    npimg = img.numpy()\n",
    "    plt.imshow(np.transpose(npimg, (1,2,0)))\n",
    "    \n",
    "dataiter = iter(trainLoader)\n",
    "images,labels = dataiter.next()\n",
    "\n",
    "imshow(torchvision.utils.make_grid(images))"
   ]
  },
  {
   "cell_type": "code",
   "execution_count": 12,
   "metadata": {},
   "outputs": [],
   "source": [
    "N_Steps = 28\n",
    "N_Inputs = 28\n",
    "N_Neurons = 150\n",
    "N_Outputs = 10\n",
    "N_Epochs =10\n"
   ]
  },
  {
   "cell_type": "code",
   "execution_count": 13,
   "metadata": {},
   "outputs": [],
   "source": [
    "class ImageRNN(nn.Module):\n",
    "    def __init__(self,batch_size,n_steps,n_inputs,n_neurons,n_outputs):\n",
    "        super(ImageRNN,self).__init__()\n",
    "        \n",
    "        self.n_neurons = n_neurons\n",
    "        self.batch_size = batch_size\n",
    "        self.n_steps = n_steps\n",
    "        self.n_inputs = n_inputs\n",
    "        self.n_outputs = n_outputs\n",
    "        \n",
    "        self.basic_rnn = nn.RNN(self.n_inputs,self.n_neurons)\n",
    "        \n",
    "        self.FC = nn.Linear(self.n_neurons,self.n_outputs)\n",
    "\n",
    "    def init_hidden(self):\n",
    "        return (torch.zeros(1,self.batch_size,self.n_neurons))\n",
    "    \n",
    "    def forward(self,X):\n",
    "        X = X.permute(1,0,2)\n",
    "        self.batch_size = X.size(1)\n",
    "        self.hidden = self.init_hidden()\n",
    "        \n",
    "        lstm_out, self.hidden = self.basic_rnn(X,self.hidden)\n",
    "        out = self.FC(self.hidden)\n",
    "        \n",
    "        return out.view(-1,self.n_outputs)\n",
    "    "
   ]
  },
  {
   "cell_type": "code",
   "execution_count": 14,
   "metadata": {},
   "outputs": [],
   "source": [
    "dataiter = iter(trainLoader)\n",
    "images, labels = dataiter.next()\n",
    "# model = ImageRNN(Batch_Size,N_Steps,N_Inputs,N_Neurons,N_Outputs)\n",
    "# logits = model(images.view(-1,28,28))\n",
    "# # print(logits[0:5])"
   ]
  },
  {
   "cell_type": "code",
   "execution_count": 15,
   "metadata": {},
   "outputs": [],
   "source": [
    "import torch.optim as optim\n",
    "device = torch.device(\"cuda:0\" if torch.cuda.is_available() else \"cpu\")\n",
    "\n",
    "model = ImageRNN(Batch_Size,N_Steps,N_Inputs,N_Neurons,N_Outputs)\n",
    "criterion = nn.CrossEntropyLoss()\n",
    "optimizer = optim.Adam(model.parameters(),lr=0.001)\n",
    "\n",
    "def get_accuracy(logit,target,batch_size):\n",
    "    corrects = (torch.max(logit,1)[1].view(target.size()).data==target.data).sum()\n",
    "    accuracy = 100.0* corrects/batch_size\n",
    "    \n",
    "    return accuracy.item()"
   ]
  },
  {
   "cell_type": "code",
   "execution_count": 16,
   "metadata": {},
   "outputs": [
    {
     "name": "stdout",
     "output_type": "stream",
     "text": [
      "Epoch: 0 | Loss: 0.7059 | Train_Accu: 77.23\n",
      "Epoch: 1 | Loss: 0.3112 | Train_Accu: 91.19\n",
      "Epoch: 2 | Loss: 0.2300 | Train_Accu: 93.46\n",
      "Epoch: 3 | Loss: 0.1935 | Train_Accu: 94.62\n",
      "Epoch: 4 | Loss: 0.1788 | Train_Accu: 95.15\n",
      "Epoch: 5 | Loss: 0.1640 | Train_Accu: 95.45\n",
      "Epoch: 6 | Loss: 0.1659 | Train_Accu: 95.34\n",
      "Epoch: 7 | Loss: 0.1560 | Train_Accu: 95.66\n",
      "Epoch: 8 | Loss: 0.1534 | Train_Accu: 95.77\n",
      "Epoch: 9 | Loss: 0.1482 | Train_Accu: 95.85\n"
     ]
    }
   ],
   "source": [
    "for epoch in range(N_Epochs):\n",
    "    train_running_loss = 0.0\n",
    "    train_acc = 0.0\n",
    "    \n",
    "    model.train()\n",
    "    for i,data in enumerate(trainLoader):\n",
    "        optimizer.zero_grad()\n",
    "        \n",
    "        model.hidden = model.init_hidden()\n",
    "        inputs, labels = data\n",
    "        inputs = inputs.view(-1,28,28)\n",
    "        outputs = model(inputs)\n",
    "        \n",
    "        loss = criterion(outputs,labels)\n",
    "        loss.backward()\n",
    "        optimizer.step()\n",
    "        \n",
    "        train_running_loss += loss.detach().item()\n",
    "        train_acc += get_accuracy(outputs,labels,Batch_Size)\n",
    "        \n",
    "    model.eval()\n",
    "    print(\"Epoch: %d | Loss: %.4f | Train_Accu: %.2f\"\n",
    "         %(epoch,train_running_loss/i, train_acc/i))"
   ]
  },
  {
   "cell_type": "code",
   "execution_count": 17,
   "metadata": {},
   "outputs": [
    {
     "name": "stdout",
     "output_type": "stream",
     "text": [
      "Test Accuracy: 95.87\n"
     ]
    }
   ],
   "source": [
    "test_acc = 0.0\n",
    "for i,data in enumerate(testLoader,0):\n",
    "    inputs,labels = data\n",
    "    inputs = inputs.view(-1,28,28)\n",
    "    outputs = model(inputs)\n",
    "    test_acc += get_accuracy(outputs,labels,Batch_Size)\n",
    "print('Test Accuracy: %.2f'%(test_acc/i))"
   ]
  },
  {
   "cell_type": "code",
   "execution_count": null,
   "metadata": {},
   "outputs": [],
   "source": []
  },
  {
   "cell_type": "code",
   "execution_count": null,
   "metadata": {},
   "outputs": [],
   "source": []
  }
 ],
 "metadata": {
  "kernelspec": {
   "display_name": "Python 3",
   "language": "python",
   "name": "python3"
  },
  "language_info": {
   "codemirror_mode": {
    "name": "ipython",
    "version": 3
   },
   "file_extension": ".py",
   "mimetype": "text/x-python",
   "name": "python",
   "nbconvert_exporter": "python",
   "pygments_lexer": "ipython3",
   "version": "3.7.4"
  }
 },
 "nbformat": 4,
 "nbformat_minor": 2
}
